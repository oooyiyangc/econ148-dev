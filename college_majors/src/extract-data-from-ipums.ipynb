{
 "cells": [
  {
   "cell_type": "code",
   "execution_count": 1,
   "id": "ad14a72f",
   "metadata": {},
   "outputs": [],
   "source": [
    "from pathlib import Path\n",
    "from ipumspy import IpumsApiClient, UsaExtract, readers"
   ]
  },
  {
   "cell_type": "code",
   "execution_count": 2,
   "id": "61d43995",
   "metadata": {},
   "outputs": [],
   "source": [
    "import os\n",
    "from dotenv import load_dotenv\n",
    "load_dotenv()\n",
    "apikey = os.environ[\"apikey\"]"
   ]
  },
  {
   "cell_type": "markdown",
   "id": "9b9c184f",
   "metadata": {},
   "source": [
    "# Extract Data From IPUMS"
   ]
  },
  {
   "cell_type": "markdown",
   "id": "2b1b9ab8",
   "metadata": {},
   "source": [
    "Documentation available at [IPUMS-PY](https://ipumspy.readthedocs.io/en/latest/index.html).\n",
    "\n",
    "A list of samples is [here](https://usa.ipums.org/usa-action/samples/sample_ids). "
   ]
  },
  {
   "cell_type": "code",
   "execution_count": 3,
   "id": "1d8f80b9",
   "metadata": {},
   "outputs": [],
   "source": [
    "IPUMS_API_KEY = apikey\n",
    "DOWNLOAD_DIR = Path(\"../data/test_data\")\n",
    "\n",
    "ipums = IpumsApiClient(IPUMS_API_KEY)"
   ]
  },
  {
   "cell_type": "code",
   "execution_count": 4,
   "id": "24cfe080",
   "metadata": {},
   "outputs": [
    {
     "name": "stdout",
     "output_type": "stream",
     "text": [
      "Extract submitted with id 6\n"
     ]
    }
   ],
   "source": [
    "# Submit an API extract request\n",
    "extract = UsaExtract(\n",
    "    [\"us2012b\"],\n",
    "    [\"AGE\", \"SEX\"],\n",
    "    data_format=\"csv\",\n",
    "    description=\"My first IPUMS USA extract!\"\n",
    ")\n",
    "ipums.submit_extract(extract)\n",
    "print(f\"Extract submitted with id {extract.extract_id}\")\n",
    "\n",
    "# wait for the extract to finish\n",
    "ipums.wait_for_extract(extract)"
   ]
  },
  {
   "cell_type": "code",
   "execution_count": 5,
   "id": "0b1a9752",
   "metadata": {},
   "outputs": [],
   "source": [
    "# Download the extract\n",
    "ipums.download_extract(extract, download_dir=DOWNLOAD_DIR)"
   ]
  },
  {
   "cell_type": "code",
   "execution_count": 6,
   "id": "25f37871",
   "metadata": {},
   "outputs": [
    {
     "name": "stderr",
     "output_type": "stream",
     "text": [
      "C:\\Users\\Yiyan\\AppData\\Local\\Programs\\Python\\Python38\\lib\\site-packages\\ipumspy\\readers.py:46: CitationWarning: Use of data from IPUMS is subject to conditions including that users should cite the data appropriately.\n",
      "See the `ipums_conditions` attribute of this codebook for terms of use.\n",
      "See the `ipums_citation` attribute of this codebook for the appropriate citation.\n",
      "  warnings.warn(\n"
     ]
    }
   ],
   "source": [
    "# Get the DDI\n",
    "ddi_file_path = list(DOWNLOAD_DIR.glob(\"*.xml\"))[0]\n",
    "ddi_object = readers.read_ipums_ddi(ddi_file_path)\n",
    "\n",
    "# Get the data\n",
    "ipums_df = readers.read_microdata(ddi_object, DOWNLOAD_DIR / ddi_object.file_description.filename)"
   ]
  },
  {
   "cell_type": "code",
   "execution_count": 7,
   "id": "e5305bf0",
   "metadata": {},
   "outputs": [
    {
     "data": {
      "text/html": [
       "<div>\n",
       "<style scoped>\n",
       "    .dataframe tbody tr th:only-of-type {\n",
       "        vertical-align: middle;\n",
       "    }\n",
       "\n",
       "    .dataframe tbody tr th {\n",
       "        vertical-align: top;\n",
       "    }\n",
       "\n",
       "    .dataframe thead th {\n",
       "        text-align: right;\n",
       "    }\n",
       "</style>\n",
       "<table border=\"1\" class=\"dataframe\">\n",
       "  <thead>\n",
       "    <tr style=\"text-align: right;\">\n",
       "      <th></th>\n",
       "      <th>YEAR</th>\n",
       "      <th>SAMPLE</th>\n",
       "      <th>SERIAL</th>\n",
       "      <th>CBSERIAL</th>\n",
       "      <th>HHWT</th>\n",
       "      <th>GQ</th>\n",
       "      <th>PERNUM</th>\n",
       "      <th>PERWT</th>\n",
       "      <th>SEX</th>\n",
       "      <th>AGE</th>\n",
       "    </tr>\n",
       "  </thead>\n",
       "  <tbody>\n",
       "    <tr>\n",
       "      <th>0</th>\n",
       "      <td>2012</td>\n",
       "      <td>201202</td>\n",
       "      <td>1</td>\n",
       "      <td>101</td>\n",
       "      <td>9.0</td>\n",
       "      <td>4</td>\n",
       "      <td>1</td>\n",
       "      <td>9.0</td>\n",
       "      <td>1</td>\n",
       "      <td>51</td>\n",
       "    </tr>\n",
       "    <tr>\n",
       "      <th>1</th>\n",
       "      <td>2012</td>\n",
       "      <td>201202</td>\n",
       "      <td>2</td>\n",
       "      <td>202</td>\n",
       "      <td>16.0</td>\n",
       "      <td>3</td>\n",
       "      <td>1</td>\n",
       "      <td>16.0</td>\n",
       "      <td>2</td>\n",
       "      <td>66</td>\n",
       "    </tr>\n",
       "    <tr>\n",
       "      <th>2</th>\n",
       "      <td>2012</td>\n",
       "      <td>201202</td>\n",
       "      <td>3</td>\n",
       "      <td>203</td>\n",
       "      <td>69.0</td>\n",
       "      <td>1</td>\n",
       "      <td>1</td>\n",
       "      <td>69.0</td>\n",
       "      <td>2</td>\n",
       "      <td>33</td>\n",
       "    </tr>\n",
       "    <tr>\n",
       "      <th>3</th>\n",
       "      <td>2012</td>\n",
       "      <td>201202</td>\n",
       "      <td>3</td>\n",
       "      <td>203</td>\n",
       "      <td>69.0</td>\n",
       "      <td>1</td>\n",
       "      <td>2</td>\n",
       "      <td>65.0</td>\n",
       "      <td>2</td>\n",
       "      <td>16</td>\n",
       "    </tr>\n",
       "    <tr>\n",
       "      <th>4</th>\n",
       "      <td>2012</td>\n",
       "      <td>201202</td>\n",
       "      <td>3</td>\n",
       "      <td>203</td>\n",
       "      <td>69.0</td>\n",
       "      <td>1</td>\n",
       "      <td>3</td>\n",
       "      <td>55.0</td>\n",
       "      <td>1</td>\n",
       "      <td>15</td>\n",
       "    </tr>\n",
       "    <tr>\n",
       "      <th>...</th>\n",
       "      <td>...</td>\n",
       "      <td>...</td>\n",
       "      <td>...</td>\n",
       "      <td>...</td>\n",
       "      <td>...</td>\n",
       "      <td>...</td>\n",
       "      <td>...</td>\n",
       "      <td>...</td>\n",
       "      <td>...</td>\n",
       "      <td>...</td>\n",
       "    </tr>\n",
       "    <tr>\n",
       "      <th>33052</th>\n",
       "      <td>2012</td>\n",
       "      <td>201202</td>\n",
       "      <td>13819</td>\n",
       "      <td>1493470</td>\n",
       "      <td>110.0</td>\n",
       "      <td>1</td>\n",
       "      <td>2</td>\n",
       "      <td>98.0</td>\n",
       "      <td>1</td>\n",
       "      <td>14</td>\n",
       "    </tr>\n",
       "    <tr>\n",
       "      <th>33053</th>\n",
       "      <td>2012</td>\n",
       "      <td>201202</td>\n",
       "      <td>13819</td>\n",
       "      <td>1493470</td>\n",
       "      <td>110.0</td>\n",
       "      <td>1</td>\n",
       "      <td>3</td>\n",
       "      <td>189.0</td>\n",
       "      <td>1</td>\n",
       "      <td>3</td>\n",
       "    </tr>\n",
       "    <tr>\n",
       "      <th>33054</th>\n",
       "      <td>2012</td>\n",
       "      <td>201202</td>\n",
       "      <td>13819</td>\n",
       "      <td>1493470</td>\n",
       "      <td>110.0</td>\n",
       "      <td>1</td>\n",
       "      <td>4</td>\n",
       "      <td>129.0</td>\n",
       "      <td>2</td>\n",
       "      <td>36</td>\n",
       "    </tr>\n",
       "    <tr>\n",
       "      <th>33055</th>\n",
       "      <td>2012</td>\n",
       "      <td>201202</td>\n",
       "      <td>13820</td>\n",
       "      <td>1493812</td>\n",
       "      <td>69.0</td>\n",
       "      <td>1</td>\n",
       "      <td>1</td>\n",
       "      <td>69.0</td>\n",
       "      <td>2</td>\n",
       "      <td>68</td>\n",
       "    </tr>\n",
       "    <tr>\n",
       "      <th>33056</th>\n",
       "      <td>2012</td>\n",
       "      <td>201202</td>\n",
       "      <td>13820</td>\n",
       "      <td>1493812</td>\n",
       "      <td>69.0</td>\n",
       "      <td>1</td>\n",
       "      <td>2</td>\n",
       "      <td>91.0</td>\n",
       "      <td>1</td>\n",
       "      <td>77</td>\n",
       "    </tr>\n",
       "  </tbody>\n",
       "</table>\n",
       "<p>33057 rows × 10 columns</p>\n",
       "</div>"
      ],
      "text/plain": [
       "       YEAR  SAMPLE  SERIAL  CBSERIAL   HHWT  GQ  PERNUM  PERWT  SEX  AGE\n",
       "0      2012  201202       1       101    9.0   4       1    9.0    1   51\n",
       "1      2012  201202       2       202   16.0   3       1   16.0    2   66\n",
       "2      2012  201202       3       203   69.0   1       1   69.0    2   33\n",
       "3      2012  201202       3       203   69.0   1       2   65.0    2   16\n",
       "4      2012  201202       3       203   69.0   1       3   55.0    1   15\n",
       "...     ...     ...     ...       ...    ...  ..     ...    ...  ...  ...\n",
       "33052  2012  201202   13819   1493470  110.0   1       2   98.0    1   14\n",
       "33053  2012  201202   13819   1493470  110.0   1       3  189.0    1    3\n",
       "33054  2012  201202   13819   1493470  110.0   1       4  129.0    2   36\n",
       "33055  2012  201202   13820   1493812   69.0   1       1   69.0    2   68\n",
       "33056  2012  201202   13820   1493812   69.0   1       2   91.0    1   77\n",
       "\n",
       "[33057 rows x 10 columns]"
      ]
     },
     "execution_count": 7,
     "metadata": {},
     "output_type": "execute_result"
    }
   ],
   "source": [
    "ipums_df"
   ]
  },
  {
   "cell_type": "code",
   "execution_count": null,
   "id": "a00318e3",
   "metadata": {},
   "outputs": [],
   "source": []
  }
 ],
 "metadata": {
  "kernelspec": {
   "display_name": "Python 3 (ipykernel)",
   "language": "python",
   "name": "python3"
  },
  "language_info": {
   "codemirror_mode": {
    "name": "ipython",
    "version": 3
   },
   "file_extension": ".py",
   "mimetype": "text/x-python",
   "name": "python",
   "nbconvert_exporter": "python",
   "pygments_lexer": "ipython3",
   "version": "3.8.10"
  }
 },
 "nbformat": 4,
 "nbformat_minor": 5
}
